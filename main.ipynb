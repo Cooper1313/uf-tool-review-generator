{
  "nbformat": 4,
  "nbformat_minor": 0,
  "metadata": {
    "colab": {
      "provenance": [],
      "authorship_tag": "ABX9TyP8iVcE3AGIuMzHYJ4xdpMi",
      "include_colab_link": true
    },
    "kernelspec": {
      "name": "python3",
      "display_name": "Python 3"
    },
    "language_info": {
      "name": "python"
    }
  },
  "cells": [
    {
      "cell_type": "markdown",
      "metadata": {
        "id": "view-in-github",
        "colab_type": "text"
      },
      "source": [
        "<a href=\"https://colab.research.google.com/github/Cooper1313/uf-tool-review-generator/blob/main/main.ipynb\" target=\"_parent\"><img src=\"https://colab.research.google.com/assets/colab-badge.svg\" alt=\"Open In Colab\"/></a>"
      ]
    },
    {
      "cell_type": "code",
      "source": [
        "!rm -rf uf-tool-review-generator\n",
        "!git clone https://github.com/cooper1313/uf-tool-review-generator.git\n",
        "%cd /content/uf-tool-review-generator\n",
        "\n",
        "# Download the missing data file\n",
        "!mkdir data\n",
        "!wget -O data/AI\\ Tool\\ Page\\ Prompt_082025.docx \"https://github.com/cooper1313/uf-tool-review-generator/raw/main/data/AI%20Tool%20Page%20Prompt_082025.docx\"\n",
        "\n",
        "\n",
        "import sys\n",
        "sys.path.append('src')\n",
        "\n",
        "from data_ingestion import extract_tool_metadata\n",
        "from doc_generator import fill_template\n",
        "\n",
        "tools = extract_tool_metadata()\n",
        "\n",
        "for tool_name, tool_data in tools.items():\n",
        "    fill_template(tool_name, tool_data)"
      ],
      "metadata": {
        "colab": {
          "base_uri": "https://localhost:8080/"
        },
        "id": "n5YpX1rWfDgi",
        "outputId": "00d8aba0-96fb-444b-b598-bb0a19bfcf3e"
      },
      "execution_count": 8,
      "outputs": [
        {
          "output_type": "stream",
          "name": "stdout",
          "text": [
            "Cloning into 'uf-tool-review-generator'...\n",
            "remote: Enumerating objects: 53, done.\u001b[K\n",
            "remote: Counting objects: 100% (53/53), done.\u001b[K\n",
            "remote: Compressing objects: 100% (49/49), done.\u001b[K\n",
            "remote: Total 53 (delta 19), reused 0 (delta 0), pack-reused 0 (from 0)\u001b[K\n",
            "Receiving objects: 100% (53/53), 4.35 MiB | 4.40 MiB/s, done.\n",
            "Resolving deltas: 100% (19/19), done.\n",
            "/content/uf-tool-review-generator\n",
            "mkdir: cannot create directory ‘data’: File exists\n",
            "--2025-09-30 16:39:47--  https://github.com/cooper1313/uf-tool-review-generator/raw/main/data/AI%20Tool%20Page%20Prompt_082025.docx\n",
            "Resolving github.com (github.com)... 20.27.177.113\n",
            "Connecting to github.com (github.com)|20.27.177.113|:443... connected.\n",
            "HTTP request sent, awaiting response... 302 Found\n",
            "Location: https://raw.githubusercontent.com/cooper1313/uf-tool-review-generator/main/data/AI%20Tool%20Page%20Prompt_082025.docx [following]\n",
            "--2025-09-30 16:39:47--  https://raw.githubusercontent.com/cooper1313/uf-tool-review-generator/main/data/AI%20Tool%20Page%20Prompt_082025.docx\n",
            "Resolving raw.githubusercontent.com (raw.githubusercontent.com)... 185.199.111.133, 185.199.110.133, 185.199.108.133, ...\n",
            "Connecting to raw.githubusercontent.com (raw.githubusercontent.com)|185.199.111.133|:443... connected.\n",
            "HTTP request sent, awaiting response... 200 OK\n",
            "Length: 12422 (12K) [application/octet-stream]\n",
            "Saving to: ‘data/AI Tool Page Prompt_082025.docx’\n",
            "\n",
            "data/AI Tool Page P 100%[===================>]  12.13K  --.-KB/s    in 0.003s  \n",
            "\n",
            "2025-09-30 16:39:48 (3.67 MB/s) - ‘data/AI Tool Page Prompt_082025.docx’ saved [12422/12422]\n",
            "\n"
          ]
        }
      ]
    }
  ]
}